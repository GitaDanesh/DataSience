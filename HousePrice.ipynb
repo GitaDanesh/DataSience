{
 "cells": [
  {
   "cell_type": "code",
   "execution_count": 2051,
   "metadata": {},
   "outputs": [],
   "source": [
    "from math import sqrt\n",
    "import pandas as pd\n",
    "import numpy as np\n",
    "import matplotlib.pyplot as plt"
   ]
  },
  {
   "cell_type": "code",
   "execution_count": 2052,
   "metadata": {},
   "outputs": [
    {
     "name": "stdout",
     "output_type": "stream",
     "text": [
      "(1460, 81)\n"
     ]
    },
    {
     "data": {
      "text/html": [
       "<div>\n",
       "<style scoped>\n",
       "    .dataframe tbody tr th:only-of-type {\n",
       "        vertical-align: middle;\n",
       "    }\n",
       "\n",
       "    .dataframe tbody tr th {\n",
       "        vertical-align: top;\n",
       "    }\n",
       "\n",
       "    .dataframe thead th {\n",
       "        text-align: right;\n",
       "    }\n",
       "</style>\n",
       "<table border=\"1\" class=\"dataframe\">\n",
       "  <thead>\n",
       "    <tr style=\"text-align: right;\">\n",
       "      <th></th>\n",
       "      <th>Id</th>\n",
       "      <th>MSSubClass</th>\n",
       "      <th>MSZoning</th>\n",
       "      <th>LotFrontage</th>\n",
       "      <th>LotArea</th>\n",
       "      <th>Street</th>\n",
       "      <th>Alley</th>\n",
       "      <th>LotShape</th>\n",
       "      <th>LandContour</th>\n",
       "      <th>Utilities</th>\n",
       "      <th>...</th>\n",
       "      <th>PoolArea</th>\n",
       "      <th>PoolQC</th>\n",
       "      <th>Fence</th>\n",
       "      <th>MiscFeature</th>\n",
       "      <th>MiscVal</th>\n",
       "      <th>MoSold</th>\n",
       "      <th>YrSold</th>\n",
       "      <th>SaleType</th>\n",
       "      <th>SaleCondition</th>\n",
       "      <th>SalePrice</th>\n",
       "    </tr>\n",
       "  </thead>\n",
       "  <tbody>\n",
       "    <tr>\n",
       "      <th>0</th>\n",
       "      <td>1</td>\n",
       "      <td>60</td>\n",
       "      <td>RL</td>\n",
       "      <td>65.0</td>\n",
       "      <td>8450</td>\n",
       "      <td>Pave</td>\n",
       "      <td>NaN</td>\n",
       "      <td>Reg</td>\n",
       "      <td>Lvl</td>\n",
       "      <td>AllPub</td>\n",
       "      <td>...</td>\n",
       "      <td>0</td>\n",
       "      <td>NaN</td>\n",
       "      <td>NaN</td>\n",
       "      <td>NaN</td>\n",
       "      <td>0</td>\n",
       "      <td>2</td>\n",
       "      <td>2008</td>\n",
       "      <td>WD</td>\n",
       "      <td>Normal</td>\n",
       "      <td>208500</td>\n",
       "    </tr>\n",
       "    <tr>\n",
       "      <th>1</th>\n",
       "      <td>2</td>\n",
       "      <td>20</td>\n",
       "      <td>RL</td>\n",
       "      <td>80.0</td>\n",
       "      <td>9600</td>\n",
       "      <td>Pave</td>\n",
       "      <td>NaN</td>\n",
       "      <td>Reg</td>\n",
       "      <td>Lvl</td>\n",
       "      <td>AllPub</td>\n",
       "      <td>...</td>\n",
       "      <td>0</td>\n",
       "      <td>NaN</td>\n",
       "      <td>NaN</td>\n",
       "      <td>NaN</td>\n",
       "      <td>0</td>\n",
       "      <td>5</td>\n",
       "      <td>2007</td>\n",
       "      <td>WD</td>\n",
       "      <td>Normal</td>\n",
       "      <td>181500</td>\n",
       "    </tr>\n",
       "    <tr>\n",
       "      <th>2</th>\n",
       "      <td>3</td>\n",
       "      <td>60</td>\n",
       "      <td>RL</td>\n",
       "      <td>68.0</td>\n",
       "      <td>11250</td>\n",
       "      <td>Pave</td>\n",
       "      <td>NaN</td>\n",
       "      <td>IR1</td>\n",
       "      <td>Lvl</td>\n",
       "      <td>AllPub</td>\n",
       "      <td>...</td>\n",
       "      <td>0</td>\n",
       "      <td>NaN</td>\n",
       "      <td>NaN</td>\n",
       "      <td>NaN</td>\n",
       "      <td>0</td>\n",
       "      <td>9</td>\n",
       "      <td>2008</td>\n",
       "      <td>WD</td>\n",
       "      <td>Normal</td>\n",
       "      <td>223500</td>\n",
       "    </tr>\n",
       "    <tr>\n",
       "      <th>3</th>\n",
       "      <td>4</td>\n",
       "      <td>70</td>\n",
       "      <td>RL</td>\n",
       "      <td>60.0</td>\n",
       "      <td>9550</td>\n",
       "      <td>Pave</td>\n",
       "      <td>NaN</td>\n",
       "      <td>IR1</td>\n",
       "      <td>Lvl</td>\n",
       "      <td>AllPub</td>\n",
       "      <td>...</td>\n",
       "      <td>0</td>\n",
       "      <td>NaN</td>\n",
       "      <td>NaN</td>\n",
       "      <td>NaN</td>\n",
       "      <td>0</td>\n",
       "      <td>2</td>\n",
       "      <td>2006</td>\n",
       "      <td>WD</td>\n",
       "      <td>Abnorml</td>\n",
       "      <td>140000</td>\n",
       "    </tr>\n",
       "    <tr>\n",
       "      <th>4</th>\n",
       "      <td>5</td>\n",
       "      <td>60</td>\n",
       "      <td>RL</td>\n",
       "      <td>84.0</td>\n",
       "      <td>14260</td>\n",
       "      <td>Pave</td>\n",
       "      <td>NaN</td>\n",
       "      <td>IR1</td>\n",
       "      <td>Lvl</td>\n",
       "      <td>AllPub</td>\n",
       "      <td>...</td>\n",
       "      <td>0</td>\n",
       "      <td>NaN</td>\n",
       "      <td>NaN</td>\n",
       "      <td>NaN</td>\n",
       "      <td>0</td>\n",
       "      <td>12</td>\n",
       "      <td>2008</td>\n",
       "      <td>WD</td>\n",
       "      <td>Normal</td>\n",
       "      <td>250000</td>\n",
       "    </tr>\n",
       "  </tbody>\n",
       "</table>\n",
       "<p>5 rows × 81 columns</p>\n",
       "</div>"
      ],
      "text/plain": [
       "   Id  MSSubClass MSZoning  LotFrontage  LotArea Street Alley LotShape  \\\n",
       "0   1          60       RL         65.0     8450   Pave   NaN      Reg   \n",
       "1   2          20       RL         80.0     9600   Pave   NaN      Reg   \n",
       "2   3          60       RL         68.0    11250   Pave   NaN      IR1   \n",
       "3   4          70       RL         60.0     9550   Pave   NaN      IR1   \n",
       "4   5          60       RL         84.0    14260   Pave   NaN      IR1   \n",
       "\n",
       "  LandContour Utilities  ... PoolArea PoolQC Fence MiscFeature MiscVal MoSold  \\\n",
       "0         Lvl    AllPub  ...        0    NaN   NaN         NaN       0      2   \n",
       "1         Lvl    AllPub  ...        0    NaN   NaN         NaN       0      5   \n",
       "2         Lvl    AllPub  ...        0    NaN   NaN         NaN       0      9   \n",
       "3         Lvl    AllPub  ...        0    NaN   NaN         NaN       0      2   \n",
       "4         Lvl    AllPub  ...        0    NaN   NaN         NaN       0     12   \n",
       "\n",
       "  YrSold  SaleType  SaleCondition  SalePrice  \n",
       "0   2008        WD         Normal     208500  \n",
       "1   2007        WD         Normal     181500  \n",
       "2   2008        WD         Normal     223500  \n",
       "3   2006        WD        Abnorml     140000  \n",
       "4   2008        WD         Normal     250000  \n",
       "\n",
       "[5 rows x 81 columns]"
      ]
     },
     "execution_count": 2052,
     "metadata": {},
     "output_type": "execute_result"
    }
   ],
   "source": [
    "data = pd.read_csv('../houseprice.csv')\n",
    "\n",
    "print(data.shape)\n",
    "\n",
    "data.head()"
   ]
  },
  {
   "cell_type": "code",
   "execution_count": 2053,
   "metadata": {},
   "outputs": [
    {
     "name": "stdout",
     "output_type": "stream",
     "text": [
      "<class 'pandas.core.frame.DataFrame'>\n",
      "RangeIndex: 1460 entries, 0 to 1459\n",
      "Data columns (total 81 columns):\n",
      " #   Column         Non-Null Count  Dtype  \n",
      "---  ------         --------------  -----  \n",
      " 0   Id             1460 non-null   int64  \n",
      " 1   MSSubClass     1460 non-null   int64  \n",
      " 2   MSZoning       1460 non-null   object \n",
      " 3   LotFrontage    1201 non-null   float64\n",
      " 4   LotArea        1460 non-null   int64  \n",
      " 5   Street         1460 non-null   object \n",
      " 6   Alley          91 non-null     object \n",
      " 7   LotShape       1460 non-null   object \n",
      " 8   LandContour    1460 non-null   object \n",
      " 9   Utilities      1460 non-null   object \n",
      " 10  LotConfig      1460 non-null   object \n",
      " 11  LandSlope      1460 non-null   object \n",
      " 12  Neighborhood   1460 non-null   object \n",
      " 13  Condition1     1460 non-null   object \n",
      " 14  Condition2     1460 non-null   object \n",
      " 15  BldgType       1460 non-null   object \n",
      " 16  HouseStyle     1460 non-null   object \n",
      " 17  OverallQual    1460 non-null   int64  \n",
      " 18  OverallCond    1460 non-null   int64  \n",
      " 19  YearBuilt      1460 non-null   int64  \n",
      " 20  YearRemodAdd   1460 non-null   int64  \n",
      " 21  RoofStyle      1460 non-null   object \n",
      " 22  RoofMatl       1460 non-null   object \n",
      " 23  Exterior1st    1460 non-null   object \n",
      " 24  Exterior2nd    1460 non-null   object \n",
      " 25  MasVnrType     1452 non-null   object \n",
      " 26  MasVnrArea     1452 non-null   float64\n",
      " 27  ExterQual      1460 non-null   object \n",
      " 28  ExterCond      1460 non-null   object \n",
      " 29  Foundation     1460 non-null   object \n",
      " 30  BsmtQual       1423 non-null   object \n",
      " 31  BsmtCond       1423 non-null   object \n",
      " 32  BsmtExposure   1422 non-null   object \n",
      " 33  BsmtFinType1   1423 non-null   object \n",
      " 34  BsmtFinSF1     1460 non-null   int64  \n",
      " 35  BsmtFinType2   1422 non-null   object \n",
      " 36  BsmtFinSF2     1460 non-null   int64  \n",
      " 37  BsmtUnfSF      1460 non-null   int64  \n",
      " 38  TotalBsmtSF    1460 non-null   int64  \n",
      " 39  Heating        1460 non-null   object \n",
      " 40  HeatingQC      1460 non-null   object \n",
      " 41  CentralAir     1460 non-null   object \n",
      " 42  Electrical     1459 non-null   object \n",
      " 43  1stFlrSF       1460 non-null   int64  \n",
      " 44  2ndFlrSF       1460 non-null   int64  \n",
      " 45  LowQualFinSF   1460 non-null   int64  \n",
      " 46  GrLivArea      1460 non-null   int64  \n",
      " 47  BsmtFullBath   1460 non-null   int64  \n",
      " 48  BsmtHalfBath   1460 non-null   int64  \n",
      " 49  FullBath       1460 non-null   int64  \n",
      " 50  HalfBath       1460 non-null   int64  \n",
      " 51  BedroomAbvGr   1460 non-null   int64  \n",
      " 52  KitchenAbvGr   1460 non-null   int64  \n",
      " 53  KitchenQual    1460 non-null   object \n",
      " 54  TotRmsAbvGrd   1460 non-null   int64  \n",
      " 55  Functional     1460 non-null   object \n",
      " 56  Fireplaces     1460 non-null   int64  \n",
      " 57  FireplaceQu    770 non-null    object \n",
      " 58  GarageType     1379 non-null   object \n",
      " 59  GarageYrBlt    1379 non-null   float64\n",
      " 60  GarageFinish   1379 non-null   object \n",
      " 61  GarageCars     1460 non-null   int64  \n",
      " 62  GarageArea     1460 non-null   int64  \n",
      " 63  GarageQual     1379 non-null   object \n",
      " 64  GarageCond     1379 non-null   object \n",
      " 65  PavedDrive     1460 non-null   object \n",
      " 66  WoodDeckSF     1460 non-null   int64  \n",
      " 67  OpenPorchSF    1460 non-null   int64  \n",
      " 68  EnclosedPorch  1460 non-null   int64  \n",
      " 69  3SsnPorch      1460 non-null   int64  \n",
      " 70  ScreenPorch    1460 non-null   int64  \n",
      " 71  PoolArea       1460 non-null   int64  \n",
      " 72  PoolQC         7 non-null      object \n",
      " 73  Fence          281 non-null    object \n",
      " 74  MiscFeature    54 non-null     object \n",
      " 75  MiscVal        1460 non-null   int64  \n",
      " 76  MoSold         1460 non-null   int64  \n",
      " 77  YrSold         1460 non-null   int64  \n",
      " 78  SaleType       1460 non-null   object \n",
      " 79  SaleCondition  1460 non-null   object \n",
      " 80  SalePrice      1460 non-null   int64  \n",
      "dtypes: float64(3), int64(35), object(43)\n",
      "memory usage: 924.0+ KB\n"
     ]
    }
   ],
   "source": [
    "data.info()"
   ]
  },
  {
   "cell_type": "code",
   "execution_count": 2054,
   "metadata": {},
   "outputs": [],
   "source": [
    "def isMixed(s):\n",
    "    d=l=0\n",
    "    for c in str(s):\n",
    "        if c.isdigit():\n",
    "            d=d+1\n",
    "        elif c.isalpha():\n",
    "            l=l+1\n",
    "        else:\n",
    "            continue\n",
    "    if (d>0) and (l>0):\n",
    "        return True\n",
    "    else:\n",
    "        return False\n",
    "    \n",
    "def fiveTypes(data):\n",
    "    categories = list(data.select_dtypes(include =['object','bool']).columns)\n",
    "    numbers  = list(data.select_dtypes(include=['int64','float64']).columns)\n",
    "    year_features =[i for i in numbers if all(np.isin(data[i].dropna().unique(),np.arange(1500,2099)))]\n",
    "    discrete = [i for i in numbers if data[i].nunique() <20 and i not in year_features]\n",
    "    continous = [i for i in numbers if i not in(discrete) and i not in year_features]\n",
    "    mixed = []\n",
    "    for i in categories:\n",
    "        if data[i].dropna().apply(isMixed).any():\n",
    "            mixed.append(i)\n",
    "    return categories,numbers,discrete,continous,year_features, mixed\n",
    "\n"
   ]
  },
  {
   "cell_type": "code",
   "execution_count": 2055,
   "metadata": {},
   "outputs": [],
   "source": [
    "from sklearn.model_selection import train_test_split\n",
    "\n",
    "X_train, X_test, y_train, y_test = train_test_split(data.drop(\n",
    "    ['Id', 'SalePrice'], axis=1),\n",
    "    data['SalePrice'],\n",
    "    test_size=0.3,\n",
    "    random_state=0)"
   ]
  },
  {
   "cell_type": "markdown",
   "metadata": {},
   "source": [
    "# Drop Large Missing Categories"
   ]
  },
  {
   "cell_type": "code",
   "execution_count": 2056,
   "metadata": {},
   "outputs": [
    {
     "data": {
      "text/plain": [
       "MSZoning         0.000000\n",
       "PavedDrive       0.000000\n",
       "Functional       0.000000\n",
       "KitchenQual      0.000000\n",
       "CentralAir       0.000000\n",
       "HeatingQC        0.000000\n",
       "Heating          0.000000\n",
       "SaleType         0.000000\n",
       "Foundation       0.000000\n",
       "ExterCond        0.000000\n",
       "ExterQual        0.000000\n",
       "Exterior2nd      0.000000\n",
       "Exterior1st      0.000000\n",
       "RoofMatl         0.000000\n",
       "SaleCondition    0.000000\n",
       "HouseStyle       0.000000\n",
       "Street           0.000000\n",
       "LotShape         0.000000\n",
       "RoofStyle        0.000000\n",
       "Utilities        0.000000\n",
       "LotConfig        0.000000\n",
       "LandContour      0.000000\n",
       "BldgType         0.000000\n",
       "LandSlope        0.000000\n",
       "Neighborhood     0.000000\n",
       "Condition1       0.000000\n",
       "Condition2       0.000000\n",
       "Electrical       0.000685\n",
       "MasVnrType       0.005479\n",
       "BsmtCond         0.025342\n",
       "BsmtQual         0.025342\n",
       "BsmtFinType1     0.025342\n",
       "BsmtExposure     0.026027\n",
       "BsmtFinType2     0.026027\n",
       "GarageType       0.055479\n",
       "GarageFinish     0.055479\n",
       "GarageQual       0.055479\n",
       "GarageCond       0.055479\n",
       "FireplaceQu      0.472603\n",
       "Fence            0.807534\n",
       "Alley            0.937671\n",
       "MiscFeature      0.963014\n",
       "PoolQC           0.995205\n",
       "dtype: float64"
      ]
     },
     "execution_count": 2056,
     "metadata": {},
     "output_type": "execute_result"
    }
   ],
   "source": [
    "categories,numbers,discrete,continous,year_features, mixed = fiveTypes(X_train)\n",
    "data[categories].isnull().mean().sort_values()"
   ]
  },
  {
   "cell_type": "code",
   "execution_count": 2057,
   "metadata": {},
   "outputs": [],
   "source": [
    "X_train.drop(['Alley','MiscFeature','PoolQC'],axis=1,inplace=True)\n",
    "X_test.drop(['Alley','MiscFeature','PoolQC'],axis=1,inplace=True)"
   ]
  },
  {
   "cell_type": "code",
   "execution_count": 2058,
   "metadata": {},
   "outputs": [],
   "source": [
    "categories,numbers,discrete,continous,year_features, mixed =fiveTypes(X_train)"
   ]
  },
  {
   "cell_type": "code",
   "execution_count": 2059,
   "metadata": {},
   "outputs": [
    {
     "data": {
      "text/plain": [
       "['MSSubClass',\n",
       " 'LotFrontage',\n",
       " 'LotArea',\n",
       " 'OverallQual',\n",
       " 'OverallCond',\n",
       " 'YearBuilt',\n",
       " 'YearRemodAdd',\n",
       " 'MasVnrArea',\n",
       " 'BsmtFinSF1',\n",
       " 'BsmtFinSF2',\n",
       " 'BsmtUnfSF',\n",
       " 'TotalBsmtSF',\n",
       " '1stFlrSF',\n",
       " '2ndFlrSF',\n",
       " 'LowQualFinSF',\n",
       " 'GrLivArea',\n",
       " 'BsmtFullBath',\n",
       " 'BsmtHalfBath',\n",
       " 'FullBath',\n",
       " 'HalfBath',\n",
       " 'BedroomAbvGr',\n",
       " 'KitchenAbvGr',\n",
       " 'TotRmsAbvGrd',\n",
       " 'Fireplaces',\n",
       " 'GarageYrBlt',\n",
       " 'GarageCars',\n",
       " 'GarageArea',\n",
       " 'WoodDeckSF',\n",
       " 'OpenPorchSF',\n",
       " 'EnclosedPorch',\n",
       " '3SsnPorch',\n",
       " 'ScreenPorch',\n",
       " 'PoolArea',\n",
       " 'MiscVal',\n",
       " 'MoSold',\n",
       " 'YrSold']"
      ]
     },
     "execution_count": 2059,
     "metadata": {},
     "output_type": "execute_result"
    }
   ],
   "source": [
    "numbers"
   ]
  },
  {
   "cell_type": "code",
   "execution_count": 2060,
   "metadata": {},
   "outputs": [],
   "source": [
    "disc = discrete"
   ]
  },
  {
   "cell_type": "code",
   "execution_count": 2061,
   "metadata": {},
   "outputs": [
    {
     "data": {
      "text/plain": [
       "['YearBuilt', 'YearRemodAdd', 'GarageYrBlt', 'YrSold']"
      ]
     },
     "execution_count": 2061,
     "metadata": {},
     "output_type": "execute_result"
    }
   ],
   "source": [
    "year_features"
   ]
  },
  {
   "cell_type": "code",
   "execution_count": 2062,
   "metadata": {},
   "outputs": [],
   "source": [
    "from feature_engine.creation import CombineWithReferenceFeature\n",
    "\n",
    "cwfr = CombineWithReferenceFeature(variables_to_combine=['YrSold'],\n",
    "                                   reference_variables=['YearBuilt', 'YearRemodAdd', 'GarageYrBlt'],\n",
    "                                   operations= ['sub'])\n",
    "\n",
    "cwfr.fit(X_train)\n",
    "\n",
    "X_train= cwfr.transform(X_train)\n",
    "X_test= cwfr.transform(X_test)"
   ]
  },
  {
   "cell_type": "code",
   "execution_count": 2063,
   "metadata": {},
   "outputs": [],
   "source": [
    "from feature_engine.selection import DropFeatures\n",
    "df = DropFeatures(['YearBuilt', 'YearRemodAdd','GarageYrBlt','YrSold'])\n",
    "\n",
    "df.fit(X_train)\n",
    "\n",
    "X_train = df.transform(X_train)\n",
    "X_test = df.transform(X_test)"
   ]
  },
  {
   "cell_type": "code",
   "execution_count": 2064,
   "metadata": {},
   "outputs": [],
   "source": [
    "categories,numbers,discrete,continous,year_features, mixed =fiveTypes(X_train)"
   ]
  },
  {
   "cell_type": "code",
   "execution_count": 2065,
   "metadata": {},
   "outputs": [
    {
     "data": {
      "text/plain": [
       "['MSSubClass',\n",
       " 'LotFrontage',\n",
       " 'LotArea',\n",
       " 'OverallQual',\n",
       " 'OverallCond',\n",
       " 'MasVnrArea',\n",
       " 'BsmtFinSF1',\n",
       " 'BsmtFinSF2',\n",
       " 'BsmtUnfSF',\n",
       " 'TotalBsmtSF',\n",
       " '1stFlrSF',\n",
       " '2ndFlrSF',\n",
       " 'LowQualFinSF',\n",
       " 'GrLivArea',\n",
       " 'BsmtFullBath',\n",
       " 'BsmtHalfBath',\n",
       " 'FullBath',\n",
       " 'HalfBath',\n",
       " 'BedroomAbvGr',\n",
       " 'KitchenAbvGr',\n",
       " 'TotRmsAbvGrd',\n",
       " 'Fireplaces',\n",
       " 'GarageCars',\n",
       " 'GarageArea',\n",
       " 'WoodDeckSF',\n",
       " 'OpenPorchSF',\n",
       " 'EnclosedPorch',\n",
       " '3SsnPorch',\n",
       " 'ScreenPorch',\n",
       " 'PoolArea',\n",
       " 'MiscVal',\n",
       " 'MoSold',\n",
       " 'YrSold_sub_YearBuilt',\n",
       " 'YrSold_sub_YearRemodAdd',\n",
       " 'YrSold_sub_GarageYrBlt']"
      ]
     },
     "execution_count": 2065,
     "metadata": {},
     "output_type": "execute_result"
    }
   ],
   "source": [
    "numbers"
   ]
  },
  {
   "cell_type": "code",
   "execution_count": 2066,
   "metadata": {},
   "outputs": [],
   "source": [
    "catFewNulls = [i for i in categories if X_train[i].isnull().mean()> 0 and X_train[i].isnull().mean() <0.05]"
   ]
  },
  {
   "cell_type": "code",
   "execution_count": 2067,
   "metadata": {},
   "outputs": [
    {
     "data": {
      "text/plain": [
       "['MasVnrType',\n",
       " 'BsmtQual',\n",
       " 'BsmtCond',\n",
       " 'BsmtExposure',\n",
       " 'BsmtFinType1',\n",
       " 'BsmtFinType2',\n",
       " 'Electrical']"
      ]
     },
     "execution_count": 2067,
     "metadata": {},
     "output_type": "execute_result"
    }
   ],
   "source": [
    "catFewNulls"
   ]
  },
  {
   "cell_type": "code",
   "execution_count": 2068,
   "metadata": {},
   "outputs": [],
   "source": [
    "catLargeNulls = [i for i in categories if X_train[i].isnull().mean()>= 0.05]"
   ]
  },
  {
   "cell_type": "code",
   "execution_count": 2069,
   "metadata": {},
   "outputs": [
    {
     "data": {
      "text/plain": [
       "['FireplaceQu',\n",
       " 'GarageType',\n",
       " 'GarageFinish',\n",
       " 'GarageQual',\n",
       " 'GarageCond',\n",
       " 'Fence']"
      ]
     },
     "execution_count": 2069,
     "metadata": {},
     "output_type": "execute_result"
    }
   ],
   "source": [
    "catLargeNulls"
   ]
  },
  {
   "cell_type": "code",
   "execution_count": 2070,
   "metadata": {},
   "outputs": [
    {
     "data": {
      "text/plain": [
       "['MSSubClass',\n",
       " 'LotFrontage',\n",
       " 'LotArea',\n",
       " 'OverallQual',\n",
       " 'OverallCond',\n",
       " 'MasVnrArea',\n",
       " 'BsmtFinSF1',\n",
       " 'BsmtFinSF2',\n",
       " 'BsmtUnfSF',\n",
       " 'TotalBsmtSF',\n",
       " '1stFlrSF',\n",
       " '2ndFlrSF',\n",
       " 'LowQualFinSF',\n",
       " 'GrLivArea',\n",
       " 'BsmtFullBath',\n",
       " 'BsmtHalfBath',\n",
       " 'FullBath',\n",
       " 'HalfBath',\n",
       " 'BedroomAbvGr',\n",
       " 'KitchenAbvGr',\n",
       " 'TotRmsAbvGrd',\n",
       " 'Fireplaces',\n",
       " 'GarageCars',\n",
       " 'GarageArea',\n",
       " 'WoodDeckSF',\n",
       " 'OpenPorchSF',\n",
       " 'EnclosedPorch',\n",
       " '3SsnPorch',\n",
       " 'ScreenPorch',\n",
       " 'PoolArea',\n",
       " 'MiscVal',\n",
       " 'MoSold',\n",
       " 'YrSold_sub_YearBuilt',\n",
       " 'YrSold_sub_YearRemodAdd',\n",
       " 'YrSold_sub_GarageYrBlt']"
      ]
     },
     "execution_count": 2070,
     "metadata": {},
     "output_type": "execute_result"
    }
   ],
   "source": [
    "numbers"
   ]
  },
  {
   "cell_type": "code",
   "execution_count": 2071,
   "metadata": {},
   "outputs": [],
   "source": [
    "NumFewNulls = [i for i in numbers if X_train[i].isnull().mean()> 0 and X_train[i].isnull().mean() <0.05]"
   ]
  },
  {
   "cell_type": "code",
   "execution_count": 2072,
   "metadata": {},
   "outputs": [
    {
     "data": {
      "text/plain": [
       "['MasVnrArea']"
      ]
     },
     "execution_count": 2072,
     "metadata": {},
     "output_type": "execute_result"
    }
   ],
   "source": [
    "NumFewNulls"
   ]
  },
  {
   "cell_type": "code",
   "execution_count": 2073,
   "metadata": {},
   "outputs": [],
   "source": [
    "NumLargeNulls = [i for i in numbers if X_train[i].isnull().mean()>= 0.05]"
   ]
  },
  {
   "cell_type": "code",
   "execution_count": 2074,
   "metadata": {},
   "outputs": [
    {
     "data": {
      "text/plain": [
       "['LotFrontage', 'YrSold_sub_GarageYrBlt']"
      ]
     },
     "execution_count": 2074,
     "metadata": {},
     "output_type": "execute_result"
    }
   ],
   "source": [
    "NumLargeNulls"
   ]
  },
  {
   "cell_type": "markdown",
   "metadata": {},
   "source": [
    "# Numerical Imputation"
   ]
  },
  {
   "cell_type": "code",
   "execution_count": 2075,
   "metadata": {},
   "outputs": [],
   "source": [
    "from feature_engine.imputation import MeanMedianImputer,AddMissingIndicator"
   ]
  },
  {
   "cell_type": "code",
   "execution_count": 2076,
   "metadata": {},
   "outputs": [],
   "source": [
    "imputer = MeanMedianImputer(variables=NumFewNulls+NumLargeNulls)"
   ]
  },
  {
   "cell_type": "code",
   "execution_count": 2077,
   "metadata": {},
   "outputs": [
    {
     "data": {
      "text/plain": [
       "MeanMedianImputer(variables=['MasVnrArea', 'LotFrontage',\n",
       "                             'YrSold_sub_GarageYrBlt'])"
      ]
     },
     "execution_count": 2077,
     "metadata": {},
     "output_type": "execute_result"
    }
   ],
   "source": [
    "imputer.fit (X_train)"
   ]
  },
  {
   "cell_type": "code",
   "execution_count": 2078,
   "metadata": {},
   "outputs": [],
   "source": [
    "X_train = imputer.transform(X_train)\n",
    "X_test = imputer.transform(X_test)"
   ]
  },
  {
   "cell_type": "code",
   "execution_count": 2079,
   "metadata": {},
   "outputs": [
    {
     "data": {
      "text/plain": [
       "AddMissingIndicator(variables=['LotFrontage', 'YrSold_sub_GarageYrBlt'])"
      ]
     },
     "execution_count": 2079,
     "metadata": {},
     "output_type": "execute_result"
    }
   ],
   "source": [
    "mi = AddMissingIndicator(variables=NumLargeNulls)\n",
    "mi.fit(X_train)"
   ]
  },
  {
   "cell_type": "code",
   "execution_count": 2080,
   "metadata": {},
   "outputs": [],
   "source": [
    "X_train = mi.transform(X_train)\n",
    "X_test = mi.transform(X_test)"
   ]
  },
  {
   "cell_type": "markdown",
   "metadata": {},
   "source": [
    "# Categorical Imputation"
   ]
  },
  {
   "cell_type": "code",
   "execution_count": 2081,
   "metadata": {},
   "outputs": [],
   "source": [
    "from feature_engine.imputation import CategoricalImputer"
   ]
  },
  {
   "cell_type": "code",
   "execution_count": 2082,
   "metadata": {},
   "outputs": [],
   "source": [
    "imputer = CategoricalImputer(imputation_method = 'missing',variables=catLargeNulls,return_object=True)"
   ]
  },
  {
   "cell_type": "code",
   "execution_count": 2083,
   "metadata": {},
   "outputs": [
    {
     "data": {
      "text/plain": [
       "CategoricalImputer(return_object=True,\n",
       "                   variables=['FireplaceQu', 'GarageType', 'GarageFinish',\n",
       "                              'GarageQual', 'GarageCond', 'Fence'])"
      ]
     },
     "execution_count": 2083,
     "metadata": {},
     "output_type": "execute_result"
    }
   ],
   "source": [
    "imputer.fit(X_train)"
   ]
  },
  {
   "cell_type": "code",
   "execution_count": 2084,
   "metadata": {},
   "outputs": [],
   "source": [
    "X_train = imputer.transform(X_train)\n",
    "X_test = imputer.transform(X_test)"
   ]
  },
  {
   "cell_type": "code",
   "execution_count": 2085,
   "metadata": {},
   "outputs": [],
   "source": [
    "imputer = CategoricalImputer(imputation_method = 'frequent',variables=catFewNulls,return_object=True)"
   ]
  },
  {
   "cell_type": "code",
   "execution_count": 2086,
   "metadata": {},
   "outputs": [
    {
     "data": {
      "text/plain": [
       "CategoricalImputer(imputation_method='frequent', return_object=True,\n",
       "                   variables=['MasVnrType', 'BsmtQual', 'BsmtCond',\n",
       "                              'BsmtExposure', 'BsmtFinType1', 'BsmtFinType2',\n",
       "                              'Electrical'])"
      ]
     },
     "execution_count": 2086,
     "metadata": {},
     "output_type": "execute_result"
    }
   ],
   "source": [
    "imputer.fit(X_train)"
   ]
  },
  {
   "cell_type": "code",
   "execution_count": 2087,
   "metadata": {},
   "outputs": [],
   "source": [
    "X_train = imputer.transform(X_train)\n",
    "X_test = imputer.transform(X_test)"
   ]
  },
  {
   "cell_type": "code",
   "execution_count": 2088,
   "metadata": {},
   "outputs": [
    {
     "data": {
      "text/plain": [
       "MSSubClass                0.0\n",
       "FireplaceQu               0.0\n",
       "Fireplaces                0.0\n",
       "Functional                0.0\n",
       "TotRmsAbvGrd              0.0\n",
       "                         ... \n",
       "MasVnrArea                0.0\n",
       "MasVnrType                0.0\n",
       "Exterior2nd               0.0\n",
       "RoofMatl                  0.0\n",
       "YrSold_sub_GarageYrBlt    0.0\n",
       "Length: 75, dtype: float64"
      ]
     },
     "execution_count": 2088,
     "metadata": {},
     "output_type": "execute_result"
    }
   ],
   "source": [
    "X_train.isnull().mean().sort_values()"
   ]
  },
  {
   "cell_type": "markdown",
   "metadata": {},
   "source": [
    "# Rare Label Encoding"
   ]
  },
  {
   "cell_type": "code",
   "execution_count": 2089,
   "metadata": {},
   "outputs": [
    {
     "data": {
      "text/plain": [
       "['MSSubClass',\n",
       " 'OverallQual',\n",
       " 'OverallCond',\n",
       " 'LowQualFinSF',\n",
       " 'BsmtFullBath',\n",
       " 'BsmtHalfBath',\n",
       " 'FullBath',\n",
       " 'HalfBath',\n",
       " 'BedroomAbvGr',\n",
       " 'KitchenAbvGr',\n",
       " 'TotRmsAbvGrd',\n",
       " 'Fireplaces',\n",
       " 'GarageCars',\n",
       " '3SsnPorch',\n",
       " 'PoolArea',\n",
       " 'MoSold']"
      ]
     },
     "execution_count": 2089,
     "metadata": {},
     "output_type": "execute_result"
    }
   ],
   "source": [
    "discrete"
   ]
  },
  {
   "cell_type": "code",
   "execution_count": 2090,
   "metadata": {},
   "outputs": [],
   "source": [
    "X_train[discrete] = X_train[discrete].astype('O')\n",
    "X_test[discrete] = X_test[discrete].astype('O')\n",
    "categories = categories+discrete"
   ]
  },
  {
   "cell_type": "code",
   "execution_count": 2091,
   "metadata": {},
   "outputs": [],
   "source": [
    "from feature_engine.encoding import RareLabelEncoder"
   ]
  },
  {
   "cell_type": "code",
   "execution_count": 2092,
   "metadata": {},
   "outputs": [],
   "source": [
    "rareEncoder = RareLabelEncoder(tol= 0.05,n_categories=1,variables=categories)"
   ]
  },
  {
   "cell_type": "code",
   "execution_count": 2093,
   "metadata": {},
   "outputs": [
    {
     "data": {
      "text/plain": [
       "RareLabelEncoder(n_categories=1,\n",
       "                 variables=['MSZoning', 'Street', 'LotShape', 'LandContour',\n",
       "                            'Utilities', 'LotConfig', 'LandSlope',\n",
       "                            'Neighborhood', 'Condition1', 'Condition2',\n",
       "                            'BldgType', 'HouseStyle', 'RoofStyle', 'RoofMatl',\n",
       "                            'Exterior1st', 'Exterior2nd', 'MasVnrType',\n",
       "                            'ExterQual', 'ExterCond', 'Foundation', 'BsmtQual',\n",
       "                            'BsmtCond', 'BsmtExposure', 'BsmtFinType1',\n",
       "                            'BsmtFinType2', 'Heating', 'HeatingQC',\n",
       "                            'CentralAir', 'Electrical', 'KitchenQual', ...])"
      ]
     },
     "execution_count": 2093,
     "metadata": {},
     "output_type": "execute_result"
    }
   ],
   "source": [
    "rareEncoder.fit(X_train)"
   ]
  },
  {
   "cell_type": "code",
   "execution_count": 2094,
   "metadata": {},
   "outputs": [],
   "source": [
    "X_train = rareEncoder.transform(X_train)"
   ]
  },
  {
   "cell_type": "code",
   "execution_count": 2095,
   "metadata": {},
   "outputs": [],
   "source": [
    "X_test = rareEncoder.transform(X_test)"
   ]
  },
  {
   "cell_type": "code",
   "execution_count": 2096,
   "metadata": {},
   "outputs": [
    {
     "name": "stdout",
     "output_type": "stream",
     "text": [
      "MSZoning ['RL' 'RM' 'Rare']\n",
      "Street ['Pave' 'Rare']\n",
      "LotShape ['Reg' 'IR1' 'Rare']\n",
      "LandContour ['Lvl' 'Rare']\n",
      "Utilities ['AllPub' 'Rare']\n",
      "LotConfig ['Inside' 'Corner' 'CulDSac' 'Rare']\n",
      "LandSlope ['Gtl' 'Rare']\n",
      "Neighborhood ['CollgCr' 'Rare' 'Edwards' 'Sawyer' 'NAmes' 'Gilbert' 'Somerst' 'OldTown']\n",
      "Condition1 ['Norm' 'Rare']\n",
      "Condition2 ['Norm' 'Rare']\n",
      "BldgType ['1Fam' 'TwnhsE' 'Rare']\n",
      "HouseStyle ['2Story' '1Story' '1.5Fin' 'Rare']\n",
      "RoofStyle ['Gable' 'Hip' 'Rare']\n",
      "RoofMatl ['CompShg' 'Rare']\n",
      "Exterior1st ['VinylSd' 'Wd Sdng' 'Rare' 'HdBoard' 'MetalSd' 'Plywood']\n",
      "Exterior2nd ['VinylSd' 'Wd Sdng' 'Plywood' 'Rare' 'HdBoard' 'MetalSd']\n",
      "MasVnrType ['BrkFace' 'None' 'Stone' 'Rare']\n",
      "ExterQual ['TA' 'Gd' 'Rare']\n",
      "ExterCond ['TA' 'Gd' 'Rare']\n",
      "Foundation ['PConc' 'CBlock' 'BrkTil' 'Rare']\n",
      "BsmtQual ['Gd' 'TA' 'Rare' 'Ex']\n",
      "BsmtCond ['TA' 'Rare']\n",
      "BsmtExposure ['No' 'Mn' 'Gd' 'Av']\n",
      "BsmtFinType1 ['GLQ' 'BLQ' 'Rec' 'ALQ' 'Unf' 'Rare']\n",
      "BsmtFinType2 ['Unf' 'Rare']\n",
      "Heating ['GasA' 'Rare']\n",
      "HeatingQC ['Ex' 'Gd' 'TA' 'Rare']\n",
      "CentralAir ['Y' 'N']\n",
      "Electrical ['SBrkr' 'Rare' 'FuseA']\n",
      "KitchenQual ['Gd' 'TA' 'Rare' 'Ex']\n",
      "Functional ['Typ' 'Rare']\n",
      "FireplaceQu ['Missing' 'Gd' 'TA' 'Rare']\n",
      "GarageType ['Attchd' 'Missing' 'Detchd' 'Rare' 'BuiltIn']\n",
      "GarageFinish ['RFn' 'Unf' 'Missing' 'Fin']\n",
      "GarageQual ['TA' 'Missing' 'Rare']\n",
      "GarageCond ['TA' 'Missing' 'Rare']\n",
      "PavedDrive ['Y' 'Rare' 'N']\n",
      "Fence ['Rare' 'Missing' 'MnPrv']\n",
      "SaleType ['WD' 'New' 'Rare']\n",
      "SaleCondition ['Normal' 'Rare' 'Abnorml' 'Partial']\n",
      "MSSubClass [60 120 20 50 'Rare']\n",
      "OverallQual [7 6 5 'Rare' 8 4]\n",
      "OverallCond [5 7 6 8 'Rare']\n",
      "LowQualFinSF [0 'Rare']\n",
      "BsmtFullBath [1 0 'Rare']\n",
      "BsmtHalfBath [0 1 'Rare']\n",
      "FullBath [2 1 'Rare']\n",
      "HalfBath [1 0 'Rare']\n",
      "BedroomAbvGr [3 2 'Rare' 4]\n",
      "KitchenAbvGr [1 'Rare']\n",
      "TotRmsAbvGrd [8 6 4 'Rare' 5 7 9]\n",
      "Fireplaces [0 1 2 'Rare']\n",
      "GarageCars [2 0 1 3 'Rare']\n",
      "3SsnPorch [0 'Rare']\n",
      "PoolArea [0 'Rare']\n",
      "MoSold ['Rare' 11 10 3 6 8 5 7 4]\n"
     ]
    }
   ],
   "source": [
    "for i in categories:\n",
    "    print(i,X_train[i].unique())"
   ]
  },
  {
   "cell_type": "code",
   "execution_count": 2097,
   "metadata": {},
   "outputs": [
    {
     "data": {
      "text/plain": [
       "CentralAir       2\n",
       "PoolArea         2\n",
       "BsmtCond         2\n",
       "Functional       2\n",
       "LowQualFinSF     2\n",
       "RoofMatl         2\n",
       "BsmtFinType2     2\n",
       "Condition2       2\n",
       "Heating          2\n",
       "Street           2\n",
       "LandSlope        2\n",
       "KitchenAbvGr     2\n",
       "Utilities        2\n",
       "3SsnPorch        2\n",
       "LandContour      2\n",
       "Condition1       2\n",
       "HalfBath         3\n",
       "Electrical       3\n",
       "GarageQual       3\n",
       "PavedDrive       3\n",
       "Fence            3\n",
       "SaleType         3\n",
       "BsmtHalfBath     3\n",
       "FullBath         3\n",
       "GarageCond       3\n",
       "BsmtFullBath     3\n",
       "MSZoning         3\n",
       "LotShape         3\n",
       "BldgType         3\n",
       "RoofStyle        3\n",
       "ExterCond        3\n",
       "ExterQual        3\n",
       "Fireplaces       4\n",
       "HouseStyle       4\n",
       "HeatingQC        4\n",
       "SaleCondition    4\n",
       "BedroomAbvGr     4\n",
       "LotConfig        4\n",
       "Foundation       4\n",
       "GarageFinish     4\n",
       "FireplaceQu      4\n",
       "BsmtQual         4\n",
       "KitchenQual      4\n",
       "BsmtExposure     4\n",
       "MasVnrType       4\n",
       "MSSubClass       5\n",
       "GarageType       5\n",
       "OverallCond      5\n",
       "GarageCars       5\n",
       "BsmtFinType1     6\n",
       "OverallQual      6\n",
       "Exterior1st      6\n",
       "Exterior2nd      6\n",
       "TotRmsAbvGrd     7\n",
       "Neighborhood     8\n",
       "MoSold           9\n",
       "dtype: int64"
      ]
     },
     "execution_count": 2097,
     "metadata": {},
     "output_type": "execute_result"
    }
   ],
   "source": [
    "X_train[categories].nunique().sort_values()"
   ]
  },
  {
   "cell_type": "code",
   "execution_count": 2098,
   "metadata": {},
   "outputs": [],
   "source": [
    "categories,numbers,discrete,continous,year_features,mixed =fiveTypes(X_train)"
   ]
  },
  {
   "cell_type": "code",
   "execution_count": 2099,
   "metadata": {},
   "outputs": [
    {
     "data": {
      "image/png": "[encoded data removed]",
      "text/plain": [
       "<Figure size 1440x2160 with 20 Axes>"
      ]
     },
     "metadata": {
      "needs_background": "light"
     },
     "output_type": "display_data"
    }
   ],
   "source": [
    "X_train[continous].hist(figsize=(20,30))\n",
    "plt.show()"
   ]
  },
  {
   "cell_type": "markdown",
   "metadata": {},
   "source": [
    "# Discretisation"
   ]
  },
  {
   "cell_type": "code",
   "execution_count": 2100,
   "metadata": {},
   "outputs": [
    {
     "data": {
      "text/plain": [
       "<matplotlib.axes._subplots.AxesSubplot at 0x2852b5eb9c8>"
      ]
     },
     "execution_count": 2100,
     "metadata": {},
     "output_type": "execute_result"
    },
    {
     "data": {
      "image/png": "[encoded data removed]",
      "text/plain": [
       "<Figure size 432x288 with 1 Axes>"
      ]
     },
     "metadata": {
      "needs_background": "light"
     },
     "output_type": "display_data"
    }
   ],
   "source": [
    "pd.concat([X_train, y_train], axis=1).groupby(['LotFrontage'])['SalePrice'].mean().plot()"
   ]
  },
  {
   "cell_type": "code",
   "execution_count": 2102,
   "metadata": {},
   "outputs": [],
   "source": [
    "from feature_engine.discretisation import EqualFrequencyDiscretiser"
   ]
  },
  {
   "cell_type": "code",
   "execution_count": 2103,
   "metadata": {},
   "outputs": [],
   "source": [
    "discret = EqualFrequencyDiscretiser(6,variables=continous, return_object=True)"
   ]
  },
  {
   "cell_type": "code",
   "execution_count": 2104,
   "metadata": {},
   "outputs": [
    {
     "data": {
      "text/plain": [
       "EqualFrequencyDiscretiser(q=6,\n",
       "                          variables=['LotFrontage', 'LotArea', 'MasVnrArea',\n",
       "                                     'BsmtFinSF1', 'BsmtFinSF2', 'BsmtUnfSF',\n",
       "                                     'TotalBsmtSF', '1stFlrSF', '2ndFlrSF',\n",
       "                                     'GrLivArea', 'GarageArea', 'WoodDeckSF',\n",
       "                                     'OpenPorchSF', 'EnclosedPorch',\n",
       "                                     'ScreenPorch', 'MiscVal',\n",
       "                                     'YrSold_sub_YearBuilt',\n",
       "                                     'YrSold_sub_YearRemodAdd',\n",
       "                                     'YrSold_sub_GarageYrBlt'])"
      ]
     },
     "execution_count": 2104,
     "metadata": {},
     "output_type": "execute_result"
    }
   ],
   "source": [
    "discret.fit(X_train)"
   ]
  },
  {
   "cell_type": "code",
   "execution_count": 2105,
   "metadata": {},
   "outputs": [],
   "source": [
    "X_train = discret.transform(X_train)\n",
    "X_test = discret.transform(X_test)"
   ]
  },
  {
   "cell_type": "code",
   "execution_count": 1918,
   "metadata": {},
   "outputs": [
    {
     "data": {
      "text/plain": [
       "<matplotlib.axes._subplots.AxesSubplot at 0x2852a065588>"
      ]
     },
     "execution_count": 1918,
     "metadata": {},
     "output_type": "execute_result"
    },
    {
     "data": {
      "image/png": "[encoded data removed]",
      "text/plain": [
       "<Figure size 432x288 with 1 Axes>"
      ]
     },
     "metadata": {
      "needs_background": "light"
     },
     "output_type": "display_data"
    }
   ],
   "source": [
    "pd.concat([X_train,y_train],axis=1).groupby('LotFrontage')['SalePrice'].mean().plot()"
   ]
  },
  {
   "cell_type": "markdown",
   "metadata": {},
   "source": [
    "# Target Encoding"
   ]
  },
  {
   "cell_type": "code",
   "execution_count": 1919,
   "metadata": {},
   "outputs": [],
   "source": [
    "from feature_engine.encoding import OrdinalEncoder"
   ]
  },
  {
   "cell_type": "code",
   "execution_count": 1920,
   "metadata": {},
   "outputs": [],
   "source": [
    "categories = list(X_train.select_dtypes(include =['object','bool']).columns)"
   ]
  },
  {
   "cell_type": "code",
   "execution_count": 1921,
   "metadata": {},
   "outputs": [
    {
     "data": {
      "text/plain": [
       "['MSSubClass',\n",
       " 'MSZoning',\n",
       " 'LotFrontage',\n",
       " 'LotArea',\n",
       " 'Street',\n",
       " 'LotShape',\n",
       " 'LandContour',\n",
       " 'Utilities',\n",
       " 'LotConfig',\n",
       " 'LandSlope',\n",
       " 'Neighborhood',\n",
       " 'Condition1',\n",
       " 'Condition2',\n",
       " 'BldgType',\n",
       " 'HouseStyle',\n",
       " 'OverallQual',\n",
       " 'OverallCond',\n",
       " 'RoofStyle',\n",
       " 'RoofMatl',\n",
       " 'Exterior1st',\n",
       " 'Exterior2nd',\n",
       " 'MasVnrType',\n",
       " 'MasVnrArea',\n",
       " 'ExterQual',\n",
       " 'ExterCond',\n",
       " 'Foundation',\n",
       " 'BsmtQual',\n",
       " 'BsmtCond',\n",
       " 'BsmtExposure',\n",
       " 'BsmtFinType1',\n",
       " 'BsmtFinSF1',\n",
       " 'BsmtFinType2',\n",
       " 'BsmtFinSF2',\n",
       " 'BsmtUnfSF',\n",
       " 'TotalBsmtSF',\n",
       " 'Heating',\n",
       " 'HeatingQC',\n",
       " 'CentralAir',\n",
       " 'Electrical',\n",
       " '1stFlrSF',\n",
       " '2ndFlrSF',\n",
       " 'LowQualFinSF',\n",
       " 'GrLivArea',\n",
       " 'BsmtFullBath',\n",
       " 'BsmtHalfBath',\n",
       " 'FullBath',\n",
       " 'HalfBath',\n",
       " 'BedroomAbvGr',\n",
       " 'KitchenAbvGr',\n",
       " 'KitchenQual',\n",
       " 'TotRmsAbvGrd',\n",
       " 'Functional',\n",
       " 'Fireplaces',\n",
       " 'FireplaceQu',\n",
       " 'GarageType',\n",
       " 'GarageFinish',\n",
       " 'GarageCars',\n",
       " 'GarageArea',\n",
       " 'GarageQual',\n",
       " 'GarageCond',\n",
       " 'PavedDrive',\n",
       " 'WoodDeckSF',\n",
       " 'OpenPorchSF',\n",
       " 'EnclosedPorch',\n",
       " '3SsnPorch',\n",
       " 'ScreenPorch',\n",
       " 'PoolArea',\n",
       " 'Fence',\n",
       " 'MiscVal',\n",
       " 'MoSold',\n",
       " 'SaleType',\n",
       " 'SaleCondition',\n",
       " 'YrSold_sub_YearBuilt',\n",
       " 'YrSold_sub_YearRemodAdd',\n",
       " 'YrSold_sub_GarageYrBlt']"
      ]
     },
     "execution_count": 1921,
     "metadata": {},
     "output_type": "execute_result"
    }
   ],
   "source": [
    "categories"
   ]
  },
  {
   "cell_type": "code",
   "execution_count": 1922,
   "metadata": {},
   "outputs": [],
   "source": [
    "oe = OrdinalEncoder(variables=categories)"
   ]
  },
  {
   "cell_type": "code",
   "execution_count": 1923,
   "metadata": {},
   "outputs": [
    {
     "data": {
      "text/plain": [
       "OrdinalEncoder(variables=['MSSubClass', 'MSZoning', 'LotFrontage', 'LotArea',\n",
       "                          'Street', 'LotShape', 'LandContour', 'Utilities',\n",
       "                          'LotConfig', 'LandSlope', 'Neighborhood',\n",
       "                          'Condition1', 'Condition2', 'BldgType', 'HouseStyle',\n",
       "                          'OverallQual', 'OverallCond', 'RoofStyle', 'RoofMatl',\n",
       "                          'Exterior1st', 'Exterior2nd', 'MasVnrType',\n",
       "                          'MasVnrArea', 'ExterQual', 'ExterCond', 'Foundation',\n",
       "                          'BsmtQual', 'BsmtCond', 'BsmtExposure',\n",
       "                          'BsmtFinType1', ...])"
      ]
     },
     "execution_count": 1923,
     "metadata": {},
     "output_type": "execute_result"
    }
   ],
   "source": [
    "oe.fit(X_train,y_train)"
   ]
  },
  {
   "cell_type": "code",
   "execution_count": 1924,
   "metadata": {},
   "outputs": [
    {
     "data": {
      "text/plain": [
       "{'MSSubClass': {'Rare': 0, 50: 1, 20: 2, 120: 3, 60: 4},\n",
       " 'MSZoning': {'RM': 0, 'Rare': 1, 'RL': 2},\n",
       " 'LotFrontage': {0: 0, 1: 1, 3: 2, 2: 3, 4: 4, 5: 5},\n",
       " 'LotArea': {0: 0, 1: 1, 2: 2, 3: 3, 4: 4, 5: 5},\n",
       " 'Street': {'Rare': 0, 'Pave': 1},\n",
       " 'LotShape': {'Reg': 0, 'IR1': 1, 'Rare': 2},\n",
       " 'LandContour': {'Lvl': 0, 'Rare': 1},\n",
       " 'Utilities': {'Rare': 0, 'AllPub': 1},\n",
       " 'LotConfig': {'Inside': 0, 'Rare': 1, 'Corner': 2, 'CulDSac': 3},\n",
       " 'LandSlope': {'Gtl': 0, 'Rare': 1},\n",
       " 'Neighborhood': {'Edwards': 0,\n",
       "  'OldTown': 1,\n",
       "  'Sawyer': 2,\n",
       "  'NAmes': 3,\n",
       "  'Gilbert': 4,\n",
       "  'Rare': 5,\n",
       "  'CollgCr': 6,\n",
       "  'Somerst': 7},\n",
       " 'Condition1': {'Rare': 0, 'Norm': 1},\n",
       " 'Condition2': {'Rare': 0, 'Norm': 1},\n",
       " 'BldgType': {'Rare': 0, 'TwnhsE': 1, '1Fam': 2},\n",
       " 'HouseStyle': {'1.5Fin': 0, 'Rare': 1, '1Story': 2, '2Story': 3},\n",
       " 'OverallQual': {4: 0, 5: 1, 6: 2, 7: 3, 8: 4, 'Rare': 5},\n",
       " 'OverallCond': {'Rare': 0, 6: 1, 7: 2, 8: 3, 5: 4},\n",
       " 'RoofStyle': {'Gable': 0, 'Rare': 1, 'Hip': 2},\n",
       " 'RoofMatl': {'CompShg': 0, 'Rare': 1},\n",
       " 'Exterior1st': {'Wd Sdng': 0,\n",
       "  'MetalSd': 1,\n",
       "  'HdBoard': 2,\n",
       "  'Plywood': 3,\n",
       "  'Rare': 4,\n",
       "  'VinylSd': 5},\n",
       " 'Exterior2nd': {'MetalSd': 0,\n",
       "  'Wd Sdng': 1,\n",
       "  'Plywood': 2,\n",
       "  'HdBoard': 3,\n",
       "  'Rare': 4,\n",
       "  'VinylSd': 5},\n",
       " 'MasVnrType': {'Rare': 0, 'None': 1, 'BrkFace': 2, 'Stone': 3},\n",
       " 'MasVnrArea': {0: 0, 1: 1, 2: 2},\n",
       " 'ExterQual': {'TA': 0, 'Gd': 1, 'Rare': 2},\n",
       " 'ExterCond': {'Rare': 0, 'Gd': 1, 'TA': 2},\n",
       " 'Foundation': {'Rare': 0, 'BrkTil': 1, 'CBlock': 2, 'PConc': 3},\n",
       " 'BsmtQual': {'Rare': 0, 'TA': 1, 'Gd': 2, 'Ex': 3},\n",
       " 'BsmtCond': {'Rare': 0, 'TA': 1},\n",
       " 'BsmtExposure': {'No': 0, 'Mn': 1, 'Av': 2, 'Gd': 3},\n",
       " 'BsmtFinType1': {'Rec': 0, 'BLQ': 1, 'Rare': 2, 'ALQ': 3, 'Unf': 4, 'GLQ': 5},\n",
       " 'BsmtFinSF1': {1: 0, 2: 1, 0: 2, 3: 3, 4: 4},\n",
       " 'BsmtFinType2': {'Rare': 0, 'Unf': 1},\n",
       " 'BsmtFinSF2': {0: 0},\n",
       " 'BsmtUnfSF': {4: 0, 0: 1, 3: 2, 1: 3, 2: 4, 5: 5},\n",
       " 'TotalBsmtSF': {0: 0, 1: 1, 2: 2, 3: 3, 4: 4, 5: 5},\n",
       " 'Heating': {'Rare': 0, 'GasA': 1},\n",
       " 'HeatingQC': {'Rare': 0, 'TA': 1, 'Gd': 2, 'Ex': 3},\n",
       " 'CentralAir': {'N': 0, 'Y': 1},\n",
       " 'Electrical': {'Rare': 0, 'FuseA': 1, 'SBrkr': 2},\n",
       " '1stFlrSF': {0: 0, 1: 1, 2: 2, 3: 3, 4: 4, 5: 5},\n",
       " '2ndFlrSF': {0: 0, 1: 1, 2: 2},\n",
       " 'LowQualFinSF': {'Rare': 0, 0: 1},\n",
       " 'GrLivArea': {0: 0, 1: 1, 2: 2, 3: 3, 4: 4, 5: 5},\n",
       " 'BsmtFullBath': {0: 0, 1: 1, 'Rare': 2},\n",
       " 'BsmtHalfBath': {'Rare': 0, 1: 1, 0: 2},\n",
       " 'FullBath': {1: 0, 2: 1, 'Rare': 2},\n",
       " 'HalfBath': {0: 0, 'Rare': 1, 1: 2},\n",
       " 'BedroomAbvGr': {2: 0, 'Rare': 1, 3: 2, 4: 3},\n",
       " 'KitchenAbvGr': {'Rare': 0, 1: 1},\n",
       " 'KitchenQual': {'Rare': 0, 'TA': 1, 'Gd': 2, 'Ex': 3},\n",
       " 'TotRmsAbvGrd': {4: 0, 5: 1, 6: 2, 7: 3, 8: 4, 9: 5, 'Rare': 6},\n",
       " 'Functional': {'Rare': 0, 'Typ': 1},\n",
       " 'Fireplaces': {0: 0, 1: 1, 2: 2, 'Rare': 3},\n",
       " 'FireplaceQu': {'Missing': 0, 'TA': 1, 'Rare': 2, 'Gd': 3},\n",
       " 'GarageType': {'Missing': 0,\n",
       "  'Detchd': 1,\n",
       "  'Rare': 2,\n",
       "  'Attchd': 3,\n",
       "  'BuiltIn': 4},\n",
       " 'GarageFinish': {'Missing': 0, 'Unf': 1, 'RFn': 2, 'Fin': 3},\n",
       " 'GarageCars': {0: 0, 1: 1, 2: 2, 'Rare': 3, 3: 4},\n",
       " 'GarageArea': {0: 0, 1: 1, 2: 2, 3: 3, 4: 4, 5: 5},\n",
       " 'GarageQual': {'Missing': 0, 'Rare': 1, 'TA': 2},\n",
       " 'GarageCond': {'Missing': 0, 'Rare': 1, 'TA': 2},\n",
       " 'PavedDrive': {'N': 0, 'Rare': 1, 'Y': 2},\n",
       " 'WoodDeckSF': {0: 0, 1: 1, 2: 2},\n",
       " 'OpenPorchSF': {0: 0, 1: 1, 3: 2, 2: 3},\n",
       " 'EnclosedPorch': {0: 0},\n",
       " '3SsnPorch': {0: 0, 'Rare': 1},\n",
       " 'ScreenPorch': {0: 0},\n",
       " 'PoolArea': {0: 0, 'Rare': 1},\n",
       " 'Fence': {'MnPrv': 0, 'Rare': 1, 'Missing': 2},\n",
       " 'MiscVal': {0: 0},\n",
       " 'MoSold': {10: 0, 4: 1, 5: 2, 6: 3, 3: 4, 8: 5, 7: 6, 'Rare': 7, 11: 8},\n",
       " 'SaleType': {'Rare': 0, 'WD': 1, 'New': 2},\n",
       " 'SaleCondition': {'Abnorml': 0, 'Rare': 1, 'Normal': 2, 'Partial': 3},\n",
       " 'YrSold_sub_YearBuilt': {5: 0, 4: 1, 3: 2, 2: 3, 1: 4, 0: 5},\n",
       " 'YrSold_sub_YearRemodAdd': {5: 0, 4: 1, 3: 2, 1: 3, 2: 4, 0: 5},\n",
       " 'YrSold_sub_GarageYrBlt': {5: 0, 4: 1, 3: 2, 2: 3, 1: 4, 0: 5}}"
      ]
     },
     "execution_count": 1924,
     "metadata": {},
     "output_type": "execute_result"
    }
   ],
   "source": [
    "oe.encoder_dict_"
   ]
  },
  {
   "cell_type": "code",
   "execution_count": 1925,
   "metadata": {},
   "outputs": [],
   "source": [
    "X_train = oe.transform(X_train)\n",
    "X_test = oe.transform(X_test)"
   ]
  },
  {
   "cell_type": "code",
   "execution_count": 1926,
   "metadata": {},
   "outputs": [
    {
     "data": {
      "text/plain": [
       "MSSubClass      False\n",
       "OverallQual     False\n",
       "OverallCond     False\n",
       "LowQualFinSF    False\n",
       "BsmtFullBath    False\n",
       "BsmtHalfBath    False\n",
       "FullBath        False\n",
       "HalfBath        False\n",
       "BedroomAbvGr    False\n",
       "KitchenAbvGr    False\n",
       "TotRmsAbvGrd    False\n",
       "Fireplaces      False\n",
       "GarageCars      False\n",
       "3SsnPorch       False\n",
       "PoolArea        False\n",
       "MoSold          False\n",
       "dtype: bool"
      ]
     },
     "execution_count": 1926,
     "metadata": {},
     "output_type": "execute_result"
    }
   ],
   "source": [
    "X_test[disc].isnull().any()"
   ]
  },
  {
   "cell_type": "code",
   "execution_count": 1927,
   "metadata": {},
   "outputs": [
    {
     "data": {
      "text/plain": [
       "<matplotlib.axes._subplots.AxesSubplot at 0x2852e7d6788>"
      ]
     },
     "execution_count": 1927,
     "metadata": {},
     "output_type": "execute_result"
    },
    {
     "data": {
      "image/png": "[encoded data removed]",
      "text/plain": [
       "<Figure size 432x288 with 1 Axes>"
      ]
     },
     "metadata": {
      "needs_background": "light"
     },
     "output_type": "display_data"
    }
   ],
   "source": [
    "pd.concat([X_train,y_train],axis=1).groupby('LotFrontage')['SalePrice'].mean().plot()"
   ]
  },
  {
   "cell_type": "markdown",
   "metadata": {},
   "source": [
    "# Scaling"
   ]
  },
  {
   "cell_type": "code",
   "execution_count": 1928,
   "metadata": {},
   "outputs": [],
   "source": [
    "from sklearn.preprocessing import StandardScaler"
   ]
  },
  {
   "cell_type": "code",
   "execution_count": 1929,
   "metadata": {},
   "outputs": [],
   "source": [
    "scaler = StandardScaler()\n",
    "train = scaler.fit_transform(X_train)\n",
    "test = scaler.transform(X_test)\n",
    "X_train = pd.DataFrame(data=train,columns=X_train.columns)\n",
    "X_test = pd.DataFrame(data=test,columns=X_test.columns)"
   ]
  },
  {
   "cell_type": "code",
   "execution_count": 1930,
   "metadata": {},
   "outputs": [
    {
     "data": {
      "text/html": [
       "<div>\n",
       "<style scoped>\n",
       "    .dataframe tbody tr th:only-of-type {\n",
       "        vertical-align: middle;\n",
       "    }\n",
       "\n",
       "    .dataframe tbody tr th {\n",
       "        vertical-align: top;\n",
       "    }\n",
       "\n",
       "    .dataframe thead th {\n",
       "        text-align: right;\n",
       "    }\n",
       "</style>\n",
       "<table border=\"1\" class=\"dataframe\">\n",
       "  <thead>\n",
       "    <tr style=\"text-align: right;\">\n",
       "      <th></th>\n",
       "      <th>MSSubClass</th>\n",
       "      <th>MSZoning</th>\n",
       "      <th>LotFrontage</th>\n",
       "      <th>LotArea</th>\n",
       "      <th>Street</th>\n",
       "      <th>LotShape</th>\n",
       "      <th>LandContour</th>\n",
       "      <th>Utilities</th>\n",
       "      <th>LotConfig</th>\n",
       "      <th>LandSlope</th>\n",
       "      <th>...</th>\n",
       "      <th>ScreenPorch</th>\n",
       "      <th>PoolArea</th>\n",
       "      <th>Fence</th>\n",
       "      <th>MiscVal</th>\n",
       "      <th>MoSold</th>\n",
       "      <th>SaleType</th>\n",
       "      <th>SaleCondition</th>\n",
       "      <th>YrSold_sub_YearBuilt</th>\n",
       "      <th>YrSold_sub_YearRemodAdd</th>\n",
       "      <th>YrSold_sub_GarageYrBlt</th>\n",
       "    </tr>\n",
       "  </thead>\n",
       "  <tbody>\n",
       "    <tr>\n",
       "      <th>count</th>\n",
       "      <td>438.000000</td>\n",
       "      <td>438.000000</td>\n",
       "      <td>438.000000</td>\n",
       "      <td>438.000000</td>\n",
       "      <td>438.000000</td>\n",
       "      <td>438.000000</td>\n",
       "      <td>438.000000</td>\n",
       "      <td>4.380000e+02</td>\n",
       "      <td>438.000000</td>\n",
       "      <td>438.000000</td>\n",
       "      <td>...</td>\n",
       "      <td>438.0</td>\n",
       "      <td>438.000000</td>\n",
       "      <td>438.000000</td>\n",
       "      <td>438.0</td>\n",
       "      <td>438.000000</td>\n",
       "      <td>438.000000</td>\n",
       "      <td>438.000000</td>\n",
       "      <td>438.000000</td>\n",
       "      <td>438.000000</td>\n",
       "      <td>438.000000</td>\n",
       "    </tr>\n",
       "    <tr>\n",
       "      <th>mean</th>\n",
       "      <td>-0.050060</td>\n",
       "      <td>-0.110075</td>\n",
       "      <td>-0.033608</td>\n",
       "      <td>-0.031497</td>\n",
       "      <td>0.037396</td>\n",
       "      <td>-0.028133</td>\n",
       "      <td>0.058443</td>\n",
       "      <td>3.129588e-02</td>\n",
       "      <td>0.010784</td>\n",
       "      <td>-0.074922</td>\n",
       "      <td>...</td>\n",
       "      <td>0.0</td>\n",
       "      <td>0.114547</td>\n",
       "      <td>-0.075130</td>\n",
       "      <td>0.0</td>\n",
       "      <td>0.037427</td>\n",
       "      <td>0.006560</td>\n",
       "      <td>0.020745</td>\n",
       "      <td>0.044146</td>\n",
       "      <td>0.048640</td>\n",
       "      <td>0.051976</td>\n",
       "    </tr>\n",
       "    <tr>\n",
       "      <th>std</th>\n",
       "      <td>0.993952</td>\n",
       "      <td>1.085792</td>\n",
       "      <td>0.994867</td>\n",
       "      <td>1.028770</td>\n",
       "      <td>0.684807</td>\n",
       "      <td>1.003372</td>\n",
       "      <td>1.076355</td>\n",
       "      <td>2.153517e-16</td>\n",
       "      <td>0.988614</td>\n",
       "      <td>0.845417</td>\n",
       "      <td>...</td>\n",
       "      <td>0.0</td>\n",
       "      <td>1.760355</td>\n",
       "      <td>1.091967</td>\n",
       "      <td>0.0</td>\n",
       "      <td>0.965973</td>\n",
       "      <td>1.128501</td>\n",
       "      <td>1.022981</td>\n",
       "      <td>1.015894</td>\n",
       "      <td>1.046278</td>\n",
       "      <td>1.007414</td>\n",
       "    </tr>\n",
       "    <tr>\n",
       "      <th>min</th>\n",
       "      <td>-1.298140</td>\n",
       "      <td>-2.347498</td>\n",
       "      <td>-1.501941</td>\n",
       "      <td>-1.462623</td>\n",
       "      <td>-14.261837</td>\n",
       "      <td>-0.729706</td>\n",
       "      <td>-0.327504</td>\n",
       "      <td>3.129588e-02</td>\n",
       "      <td>-0.586249</td>\n",
       "      <td>-0.249740</td>\n",
       "      <td>...</td>\n",
       "      <td>0.0</td>\n",
       "      <td>-0.054259</td>\n",
       "      <td>-2.704670</td>\n",
       "      <td>0.0</td>\n",
       "      <td>-1.710462</td>\n",
       "      <td>-2.971576</td>\n",
       "      <td>-3.129248</td>\n",
       "      <td>-1.470474</td>\n",
       "      <td>-1.470727</td>\n",
       "      <td>-1.511289</td>\n",
       "    </tr>\n",
       "    <tr>\n",
       "      <th>25%</th>\n",
       "      <td>-1.298140</td>\n",
       "      <td>0.476684</td>\n",
       "      <td>-0.909740</td>\n",
       "      <td>-0.877345</td>\n",
       "      <td>0.070117</td>\n",
       "      <td>-0.729706</td>\n",
       "      <td>-0.327504</td>\n",
       "      <td>3.129588e-02</td>\n",
       "      <td>-0.586249</td>\n",
       "      <td>-0.249740</td>\n",
       "      <td>...</td>\n",
       "      <td>0.0</td>\n",
       "      <td>-0.054259</td>\n",
       "      <td>0.450778</td>\n",
       "      <td>0.0</td>\n",
       "      <td>-0.872852</td>\n",
       "      <td>-0.098397</td>\n",
       "      <td>0.132446</td>\n",
       "      <td>-0.889560</td>\n",
       "      <td>-0.881283</td>\n",
       "      <td>-0.927563</td>\n",
       "    </tr>\n",
       "    <tr>\n",
       "      <th>50%</th>\n",
       "      <td>0.103549</td>\n",
       "      <td>0.476684</td>\n",
       "      <td>0.274660</td>\n",
       "      <td>-0.292067</td>\n",
       "      <td>0.070117</td>\n",
       "      <td>-0.729706</td>\n",
       "      <td>-0.327504</td>\n",
       "      <td>3.129588e-02</td>\n",
       "      <td>-0.586249</td>\n",
       "      <td>-0.249740</td>\n",
       "      <td>...</td>\n",
       "      <td>0.0</td>\n",
       "      <td>-0.054259</td>\n",
       "      <td>0.450778</td>\n",
       "      <td>0.0</td>\n",
       "      <td>-0.035242</td>\n",
       "      <td>-0.098397</td>\n",
       "      <td>0.132446</td>\n",
       "      <td>0.272268</td>\n",
       "      <td>0.297606</td>\n",
       "      <td>0.239887</td>\n",
       "    </tr>\n",
       "    <tr>\n",
       "      <th>75%</th>\n",
       "      <td>0.804394</td>\n",
       "      <td>0.476684</td>\n",
       "      <td>0.866861</td>\n",
       "      <td>0.878490</td>\n",
       "      <td>0.070117</td>\n",
       "      <td>1.067305</td>\n",
       "      <td>-0.327504</td>\n",
       "      <td>3.129588e-02</td>\n",
       "      <td>0.415668</td>\n",
       "      <td>-0.249740</td>\n",
       "      <td>...</td>\n",
       "      <td>0.0</td>\n",
       "      <td>-0.054259</td>\n",
       "      <td>0.450778</td>\n",
       "      <td>0.0</td>\n",
       "      <td>0.802368</td>\n",
       "      <td>-0.098397</td>\n",
       "      <td>0.132446</td>\n",
       "      <td>0.853182</td>\n",
       "      <td>0.887050</td>\n",
       "      <td>0.823612</td>\n",
       "    </tr>\n",
       "    <tr>\n",
       "      <th>max</th>\n",
       "      <td>1.505239</td>\n",
       "      <td>0.476684</td>\n",
       "      <td>1.459061</td>\n",
       "      <td>1.463769</td>\n",
       "      <td>0.070117</td>\n",
       "      <td>2.864316</td>\n",
       "      <td>3.053397</td>\n",
       "      <td>3.129588e-02</td>\n",
       "      <td>2.419501</td>\n",
       "      <td>4.004164</td>\n",
       "      <td>...</td>\n",
       "      <td>0.0</td>\n",
       "      <td>18.430048</td>\n",
       "      <td>0.450778</td>\n",
       "      <td>0.0</td>\n",
       "      <td>1.639978</td>\n",
       "      <td>2.774783</td>\n",
       "      <td>1.763294</td>\n",
       "      <td>1.434096</td>\n",
       "      <td>1.476495</td>\n",
       "      <td>1.407338</td>\n",
       "    </tr>\n",
       "  </tbody>\n",
       "</table>\n",
       "<p>8 rows × 75 columns</p>\n",
       "</div>"
      ],
      "text/plain": [
       "       MSSubClass    MSZoning  LotFrontage     LotArea      Street  \\\n",
       "count  438.000000  438.000000   438.000000  438.000000  438.000000   \n",
       "mean    -0.050060   -0.110075    -0.033608   -0.031497    0.037396   \n",
       "std      0.993952    1.085792     0.994867    1.028770    0.684807   \n",
       "min     -1.298140   -2.347498    -1.501941   -1.462623  -14.261837   \n",
       "25%     -1.298140    0.476684    -0.909740   -0.877345    0.070117   \n",
       "50%      0.103549    0.476684     0.274660   -0.292067    0.070117   \n",
       "75%      0.804394    0.476684     0.866861    0.878490    0.070117   \n",
       "max      1.505239    0.476684     1.459061    1.463769    0.070117   \n",
       "\n",
       "         LotShape  LandContour     Utilities   LotConfig   LandSlope  ...  \\\n",
       "count  438.000000   438.000000  4.380000e+02  438.000000  438.000000  ...   \n",
       "mean    -0.028133     0.058443  3.129588e-02    0.010784   -0.074922  ...   \n",
       "std      1.003372     1.076355  2.153517e-16    0.988614    0.845417  ...   \n",
       "min     -0.729706    -0.327504  3.129588e-02   -0.586249   -0.249740  ...   \n",
       "25%     -0.729706    -0.327504  3.129588e-02   -0.586249   -0.249740  ...   \n",
       "50%     -0.729706    -0.327504  3.129588e-02   -0.586249   -0.249740  ...   \n",
       "75%      1.067305    -0.327504  3.129588e-02    0.415668   -0.249740  ...   \n",
       "max      2.864316     3.053397  3.129588e-02    2.419501    4.004164  ...   \n",
       "\n",
       "       ScreenPorch    PoolArea       Fence  MiscVal      MoSold    SaleType  \\\n",
       "count        438.0  438.000000  438.000000    438.0  438.000000  438.000000   \n",
       "mean           0.0    0.114547   -0.075130      0.0    0.037427    0.006560   \n",
       "std            0.0    1.760355    1.091967      0.0    0.965973    1.128501   \n",
       "min            0.0   -0.054259   -2.704670      0.0   -1.710462   -2.971576   \n",
       "25%            0.0   -0.054259    0.450778      0.0   -0.872852   -0.098397   \n",
       "50%            0.0   -0.054259    0.450778      0.0   -0.035242   -0.098397   \n",
       "75%            0.0   -0.054259    0.450778      0.0    0.802368   -0.098397   \n",
       "max            0.0   18.430048    0.450778      0.0    1.639978    2.774783   \n",
       "\n",
       "       SaleCondition  YrSold_sub_YearBuilt  YrSold_sub_YearRemodAdd  \\\n",
       "count     438.000000            438.000000               438.000000   \n",
       "mean        0.020745              0.044146                 0.048640   \n",
       "std         1.022981              1.015894                 1.046278   \n",
       "min        -3.129248             -1.470474                -1.470727   \n",
       "25%         0.132446             -0.889560                -0.881283   \n",
       "50%         0.132446              0.272268                 0.297606   \n",
       "75%         0.132446              0.853182                 0.887050   \n",
       "max         1.763294              1.434096                 1.476495   \n",
       "\n",
       "       YrSold_sub_GarageYrBlt  \n",
       "count              438.000000  \n",
       "mean                 0.051976  \n",
       "std                  1.007414  \n",
       "min                 -1.511289  \n",
       "25%                 -0.927563  \n",
       "50%                  0.239887  \n",
       "75%                  0.823612  \n",
       "max                  1.407338  \n",
       "\n",
       "[8 rows x 75 columns]"
      ]
     },
     "execution_count": 1930,
     "metadata": {},
     "output_type": "execute_result"
    }
   ],
   "source": [
    "X_test.describe()"
   ]
  },
  {
   "cell_type": "code",
   "execution_count": 1931,
   "metadata": {},
   "outputs": [],
   "source": [
    "from sklearn.linear_model import Lasso"
   ]
  },
  {
   "cell_type": "code",
   "execution_count": 1932,
   "metadata": {},
   "outputs": [],
   "source": [
    "model = Lasso(random_state = 0)"
   ]
  },
  {
   "cell_type": "code",
   "execution_count": 1933,
   "metadata": {},
   "outputs": [
    {
     "data": {
      "text/plain": [
       "Lasso(random_state=0)"
      ]
     },
     "execution_count": 1933,
     "metadata": {},
     "output_type": "execute_result"
    }
   ],
   "source": [
    "model.fit(X_train,y_train)"
   ]
  },
  {
   "cell_type": "code",
   "execution_count": 1934,
   "metadata": {
    "scrolled": true
   },
   "outputs": [
    {
     "data": {
      "text/plain": [
       "MSSubClass      False\n",
       "OverallQual     False\n",
       "OverallCond     False\n",
       "LowQualFinSF    False\n",
       "BsmtFullBath    False\n",
       "BsmtHalfBath    False\n",
       "FullBath        False\n",
       "HalfBath        False\n",
       "BedroomAbvGr    False\n",
       "KitchenAbvGr    False\n",
       "TotRmsAbvGrd    False\n",
       "Fireplaces      False\n",
       "GarageCars      False\n",
       "3SsnPorch       False\n",
       "PoolArea        False\n",
       "MoSold          False\n",
       "dtype: bool"
      ]
     },
     "execution_count": 1934,
     "metadata": {},
     "output_type": "execute_result"
    }
   ],
   "source": [
    "X_test[disc].isnull().any()"
   ]
  },
  {
   "cell_type": "code",
   "execution_count": 1935,
   "metadata": {},
   "outputs": [],
   "source": [
    "train_predict = model.predict(X_train)\n",
    "test_predict = model.predict(X_test)"
   ]
  },
  {
   "cell_type": "code",
   "execution_count": 1936,
   "metadata": {},
   "outputs": [],
   "source": [
    "from sklearn.metrics import r2_score"
   ]
  },
  {
   "cell_type": "code",
   "execution_count": 1937,
   "metadata": {},
   "outputs": [
    {
     "data": {
      "text/plain": [
       "0.8432093807675229"
      ]
     },
     "execution_count": 1937,
     "metadata": {},
     "output_type": "execute_result"
    }
   ],
   "source": [
    "r2_score(y_train,train_predict)"
   ]
  },
  {
   "cell_type": "code",
   "execution_count": 1938,
   "metadata": {},
   "outputs": [
    {
     "data": {
      "text/plain": [
       "0.7627943054893358"
      ]
     },
     "execution_count": 1938,
     "metadata": {},
     "output_type": "execute_result"
    }
   ],
   "source": [
    "r2_score(y_test,test_predict)"
   ]
  },
  {
   "cell_type": "code",
   "execution_count": 1939,
   "metadata": {},
   "outputs": [
    {
     "data": {
      "text/plain": [
       "array([ 4.17533225e+02,  6.62476258e+02,  4.19974505e+01,  5.80360488e+03,\n",
       "        3.39240053e+03,  2.26249598e+03, -9.76890594e+02,  1.26125905e+03,\n",
       "        1.55396700e+03, -5.50797432e+01,  1.99473887e+03,  3.54881217e+03,\n",
       "        4.12311493e+03, -7.83444374e+02, -2.00456857e+03,  9.96771799e+03,\n",
       "       -8.01924520e+02,  4.52249768e+03,  2.74839363e+03,  3.77017910e+03,\n",
       "       -4.65319940e+03, -9.55062577e+02,  3.48269761e+03,  6.85423644e+03,\n",
       "        3.46724960e+02, -1.79599697e+02,  9.10405586e+03,  1.86853005e+03,\n",
       "        4.70885372e+03,  1.61751950e+03,  1.44032966e+03, -5.32979364e+02,\n",
       "        0.00000000e+00,  1.96328280e+03,  6.00029189e+03,  3.38842765e+02,\n",
       "        3.42168906e+02,  3.17854480e+03,  2.93903516e+02,  8.05813918e+03,\n",
       "        7.87710159e+03, -1.03366883e+02,  5.29648966e+03,  4.66974158e+03,\n",
       "       -1.86746221e+03,  5.34229865e+03,  4.34385668e+03,  3.00123622e+02,\n",
       "        5.58446658e+03,  7.64850358e+03,  5.70720694e+03,  6.51113296e+03,\n",
       "        4.70916733e+03, -1.08237625e+03, -2.76895471e+03,  1.47623092e+03,\n",
       "        1.39559680e+04, -1.98281685e+03, -1.91887831e+03, -3.53638431e+02,\n",
       "        1.46536065e+03,  3.30730302e+03,  2.96052949e+03,  0.00000000e+00,\n",
       "        8.75079891e+01,  0.00000000e+00,  8.32452489e+00, -1.83252039e+02,\n",
       "        0.00000000e+00,  9.65202232e+02,  3.54049881e+03,  3.54934988e+03,\n",
       "       -1.07199646e+04,  5.14462791e+03, -2.85507094e+03])"
      ]
     },
     "execution_count": 1939,
     "metadata": {},
     "output_type": "execute_result"
    }
   ],
   "source": [
    "model.coef_"
   ]
  },
  {
   "cell_type": "code",
   "execution_count": 1940,
   "metadata": {},
   "outputs": [],
   "source": [
    "tmp =pd.Series(data=np.abs(model.coef_),index=X_train.columns)"
   ]
  },
  {
   "cell_type": "code",
   "execution_count": 1941,
   "metadata": {},
   "outputs": [],
   "source": [
    "tmp.sort_values(ascending=False, inplace=True)"
   ]
  },
  {
   "cell_type": "code",
   "execution_count": 1942,
   "metadata": {},
   "outputs": [
    {
     "data": {
      "text/plain": [
       "<matplotlib.axes._subplots.AxesSubplot at 0x2852ad95e08>"
      ]
     },
     "execution_count": 1942,
     "metadata": {},
     "output_type": "execute_result"
    },
    {
     "data": {
      "image/png": "[encoded data removed]",
      "text/plain": [
       "<Figure size 1440x720 with 1 Axes>"
      ]
     },
     "metadata": {
      "needs_background": "light"
     },
     "output_type": "display_data"
    }
   ],
   "source": [
    "plt.figure(figsize=(20,10))\n",
    "tmp.plot.bar()"
   ]
  },
  {
   "cell_type": "code",
   "execution_count": 1943,
   "metadata": {},
   "outputs": [],
   "source": [
    "from feature_engine.selection import SelectBySingleFeaturePerformance"
   ]
  },
  {
   "cell_type": "code",
   "execution_count": 1944,
   "metadata": {},
   "outputs": [],
   "source": [
    "sel = SelectBySingleFeaturePerformance(estimator=Lasso(random_state=0),scoring='r2',cv=10)"
   ]
  },
  {
   "cell_type": "code",
   "execution_count": 1945,
   "metadata": {},
   "outputs": [
    {
     "data": {
      "text/plain": [
       "SelectBySingleFeaturePerformance(cv=10, estimator=Lasso(random_state=0),\n",
       "                                 scoring='r2',\n",
       "                                 variables=['MSSubClass', 'MSZoning',\n",
       "                                            'LotFrontage', 'LotArea', 'Street',\n",
       "                                            'LotShape', 'LandContour',\n",
       "                                            'Utilities', 'LotConfig',\n",
       "                                            'LandSlope', 'Neighborhood',\n",
       "                                            'Condition1', 'Condition2',\n",
       "                                            'BldgType', 'HouseStyle',\n",
       "                                            'OverallQual', 'OverallCond',\n",
       "                                            'RoofStyle', 'RoofMatl',\n",
       "                                            'Exterior1st', 'Exterior2nd',\n",
       "                                            'MasVnrType', 'MasVnrArea',\n",
       "                                            'ExterQual', 'ExterCond',\n",
       "                                            'Foundation', 'BsmtQual',\n",
       "                                            'BsmtCond', 'BsmtExposure',\n",
       "                                            'BsmtFinType1', ...])"
      ]
     },
     "execution_count": 1945,
     "metadata": {},
     "output_type": "execute_result"
    }
   ],
   "source": [
    "sel.fit(X_train,y_train)"
   ]
  },
  {
   "cell_type": "code",
   "execution_count": 1946,
   "metadata": {},
   "outputs": [
    {
     "data": {
      "text/plain": [
       "['MSZoning',\n",
       " 'LotFrontage',\n",
       " 'Street',\n",
       " 'LotShape',\n",
       " 'LandContour',\n",
       " 'Utilities',\n",
       " 'LotConfig',\n",
       " 'LandSlope',\n",
       " 'Condition1',\n",
       " 'Condition2',\n",
       " 'BldgType',\n",
       " 'HouseStyle',\n",
       " 'OverallCond',\n",
       " 'RoofStyle',\n",
       " 'RoofMatl',\n",
       " 'Exterior2nd',\n",
       " 'ExterCond',\n",
       " 'BsmtCond',\n",
       " 'BsmtExposure',\n",
       " 'BsmtFinType1',\n",
       " 'BsmtFinSF1',\n",
       " 'BsmtFinType2',\n",
       " 'BsmtFinSF2',\n",
       " 'BsmtUnfSF',\n",
       " 'Heating',\n",
       " 'CentralAir',\n",
       " 'Electrical',\n",
       " 'LowQualFinSF',\n",
       " 'BsmtFullBath',\n",
       " 'BsmtHalfBath',\n",
       " 'HalfBath',\n",
       " 'BedroomAbvGr',\n",
       " 'KitchenAbvGr',\n",
       " 'Functional',\n",
       " 'GarageQual',\n",
       " 'GarageCond',\n",
       " 'PavedDrive',\n",
       " 'WoodDeckSF',\n",
       " 'EnclosedPorch',\n",
       " '3SsnPorch',\n",
       " 'ScreenPorch',\n",
       " 'PoolArea',\n",
       " 'Fence',\n",
       " 'MiscVal',\n",
       " 'MoSold',\n",
       " 'SaleType',\n",
       " 'SaleCondition']"
      ]
     },
     "execution_count": 1946,
     "metadata": {},
     "output_type": "execute_result"
    }
   ],
   "source": [
    "sel.features_to_drop_"
   ]
  },
  {
   "cell_type": "code",
   "execution_count": 1947,
   "metadata": {},
   "outputs": [],
   "source": [
    "train = X_train.drop(sel.features_to_drop_,axis=1)"
   ]
  },
  {
   "cell_type": "code",
   "execution_count": 1948,
   "metadata": {},
   "outputs": [],
   "source": [
    "test = X_test.drop(sel.features_to_drop_,axis=1)"
   ]
  },
  {
   "cell_type": "code",
   "execution_count": 1949,
   "metadata": {},
   "outputs": [
    {
     "data": {
      "text/plain": [
       "0.8014643826517047"
      ]
     },
     "execution_count": 1949,
     "metadata": {},
     "output_type": "execute_result"
    }
   ],
   "source": [
    "model = Lasso(random_state = 0)\n",
    "\n",
    "model.fit(train,y_train)\n",
    "\n",
    "train_predict = model.predict(train)\n",
    "test_predict = model.predict(test)\n",
    "\n",
    "from sklearn.metrics import r2_score\n",
    "\n",
    "r2_score(y_train,train_predict)\n",
    "\n"
   ]
  },
  {
   "cell_type": "code",
   "execution_count": 1950,
   "metadata": {},
   "outputs": [
    {
     "data": {
      "text/plain": [
       "0.763029535281903"
      ]
     },
     "execution_count": 1950,
     "metadata": {},
     "output_type": "execute_result"
    }
   ],
   "source": [
    "r2_score(y_test,test_predict)"
   ]
  },
  {
   "cell_type": "code",
   "execution_count": 1951,
   "metadata": {},
   "outputs": [],
   "source": [
    "from sklearn.model_selection import GridSearchCV\n",
    "alphas = np.logspace(-4, -0.5, 30)\n",
    "alphas=np.arange(1,5,0.1)\n",
    "tuned_parameters = [{'alpha': alphas}]"
   ]
  },
  {
   "cell_type": "code",
   "execution_count": 1952,
   "metadata": {},
   "outputs": [
    {
     "data": {
      "text/plain": [
       "GridSearchCV(cv=5, estimator=Lasso(),\n",
       "             param_grid=[{'alpha': array([1. , 1.1, 1.2, 1.3, 1.4, 1.5, 1.6, 1.7, 1.8, 1.9, 2. , 2.1, 2.2,\n",
       "       2.3, 2.4, 2.5, 2.6, 2.7, 2.8, 2.9, 3. , 3.1, 3.2, 3.3, 3.4, 3.5,\n",
       "       3.6, 3.7, 3.8, 3.9, 4. , 4.1, 4.2, 4.3, 4.4, 4.5, 4.6, 4.7, 4.8,\n",
       "       4.9])}],\n",
       "             scoring='r2')"
      ]
     },
     "execution_count": 1952,
     "metadata": {},
     "output_type": "execute_result"
    }
   ],
   "source": [
    "grid = GridSearchCV(Lasso(),tuned_parameters,cv=5,scoring='r2')\n",
    "grid.fit(X_train,y_train)"
   ]
  },
  {
   "cell_type": "code",
   "execution_count": 1953,
   "metadata": {},
   "outputs": [
    {
     "data": {
      "text/plain": [
       "Lasso(alpha=4.900000000000004)"
      ]
     },
     "execution_count": 1953,
     "metadata": {},
     "output_type": "execute_result"
    }
   ],
   "source": [
    "grid.best_estimator_"
   ]
  },
  {
   "cell_type": "code",
   "execution_count": 1954,
   "metadata": {},
   "outputs": [
    {
     "data": {
      "text/plain": [
       "0.8011171844007066"
      ]
     },
     "execution_count": 1954,
     "metadata": {},
     "output_type": "execute_result"
    }
   ],
   "source": [
    "grid.best_score_"
   ]
  },
  {
   "cell_type": "code",
   "execution_count": 1955,
   "metadata": {},
   "outputs": [
    {
     "data": {
      "text/plain": [
       "0.7629164806399994"
      ]
     },
     "execution_count": 1955,
     "metadata": {},
     "output_type": "execute_result"
    }
   ],
   "source": [
    "grid.score(X_test,y_test)"
   ]
  },
  {
   "cell_type": "code",
   "execution_count": null,
   "metadata": {},
   "outputs": [],
   "source": []
  },
  {
   "cell_type": "code",
   "execution_count": 1956,
   "metadata": {},
   "outputs": [],
   "source": [
    "from sklearn.ensemble import AdaBoostRegressor"
   ]
  },
  {
   "cell_type": "code",
   "execution_count": 1957,
   "metadata": {},
   "outputs": [],
   "source": [
    "model = AdaBoostRegressor()"
   ]
  },
  {
   "cell_type": "code",
   "execution_count": 1958,
   "metadata": {},
   "outputs": [
    {
     "data": {
      "text/plain": [
       "AdaBoostRegressor()"
      ]
     },
     "execution_count": 1958,
     "metadata": {},
     "output_type": "execute_result"
    }
   ],
   "source": [
    "model.fit(X_train,y_train)"
   ]
  },
  {
   "cell_type": "code",
   "execution_count": 1959,
   "metadata": {},
   "outputs": [],
   "source": [
    "train_predict = model.predict(X_train)\n",
    "test_predict = model.predict(X_test)"
   ]
  },
  {
   "cell_type": "code",
   "execution_count": 1960,
   "metadata": {},
   "outputs": [
    {
     "data": {
      "text/plain": [
       "0.872475949543658"
      ]
     },
     "execution_count": 1960,
     "metadata": {},
     "output_type": "execute_result"
    }
   ],
   "source": [
    "r2_score(y_train,train_predict)"
   ]
  },
  {
   "cell_type": "code",
   "execution_count": 1961,
   "metadata": {},
   "outputs": [
    {
     "data": {
      "text/plain": [
       "0.8118657584336357"
      ]
     },
     "execution_count": 1961,
     "metadata": {},
     "output_type": "execute_result"
    }
   ],
   "source": [
    "r2_score(y_test,test_predict)"
   ]
  },
  {
   "cell_type": "code",
   "execution_count": 1962,
   "metadata": {},
   "outputs": [],
   "source": [
    "from sklearn.svm import SVR"
   ]
  },
  {
   "cell_type": "code",
   "execution_count": 1963,
   "metadata": {},
   "outputs": [],
   "source": [
    "model = SVR(kernel='linear',gamma='scale',C=100)"
   ]
  },
  {
   "cell_type": "code",
   "execution_count": 1964,
   "metadata": {},
   "outputs": [],
   "source": [
    "model.fit(X_train,y_train)\n",
    "train_predict = model.predict(X_train)\n",
    "test_predict = model.predict(X_test)"
   ]
  },
  {
   "cell_type": "code",
   "execution_count": 1965,
   "metadata": {},
   "outputs": [
    {
     "data": {
      "text/plain": [
       "0.7970310133311324"
      ]
     },
     "execution_count": 1965,
     "metadata": {},
     "output_type": "execute_result"
    }
   ],
   "source": [
    "r2_score(y_train,train_predict)"
   ]
  },
  {
   "cell_type": "code",
   "execution_count": 1966,
   "metadata": {},
   "outputs": [
    {
     "data": {
      "text/plain": [
       "0.7467291594299337"
      ]
     },
     "execution_count": 1966,
     "metadata": {},
     "output_type": "execute_result"
    }
   ],
   "source": [
    "r2_score(y_test,test_predict)"
   ]
  },
  {
   "cell_type": "code",
   "execution_count": 1967,
   "metadata": {},
   "outputs": [],
   "source": [
    "from sklearn.model_selection import GridSearchCV"
   ]
  },
  {
   "cell_type": "code",
   "execution_count": 1968,
   "metadata": {},
   "outputs": [],
   "source": [
    "grid = GridSearchCV(SVR(kernel='linear'),param_grid={\n",
    "            'C': [0.1, 1, 100, 1000],\n",
    "            'gamma': [0.0001, 0.001, 0.005, 0.1, 1, 3, 5]\n",
    "        },cv=5, scoring='r2')"
   ]
  },
  {
   "cell_type": "code",
   "execution_count": 1969,
   "metadata": {},
   "outputs": [
    {
     "data": {
      "text/plain": [
       "GridSearchCV(cv=5, estimator=SVR(kernel='linear'),\n",
       "             param_grid={'C': [0.1, 1, 100, 1000],\n",
       "                         'gamma': [0.0001, 0.001, 0.005, 0.1, 1, 3, 5]},\n",
       "             scoring='r2')"
      ]
     },
     "execution_count": 1969,
     "metadata": {},
     "output_type": "execute_result"
    }
   ],
   "source": [
    "grid.fit(X_train,y_train)"
   ]
  },
  {
   "cell_type": "code",
   "execution_count": 1970,
   "metadata": {},
   "outputs": [
    {
     "data": {
      "text/plain": [
       "0.7946657375642554"
      ]
     },
     "execution_count": 1970,
     "metadata": {},
     "output_type": "execute_result"
    }
   ],
   "source": [
    "grid.best_score_"
   ]
  },
  {
   "cell_type": "code",
   "execution_count": 1971,
   "metadata": {},
   "outputs": [
    {
     "data": {
      "text/plain": [
       "SVR(C=1000, gamma=0.0001, kernel='linear')"
      ]
     },
     "execution_count": 1971,
     "metadata": {},
     "output_type": "execute_result"
    }
   ],
   "source": [
    "grid.best_estimator_"
   ]
  },
  {
   "cell_type": "code",
   "execution_count": 1972,
   "metadata": {},
   "outputs": [
    {
     "data": {
      "text/plain": [
       "0.7609631068122141"
      ]
     },
     "execution_count": 1972,
     "metadata": {},
     "output_type": "execute_result"
    }
   ],
   "source": [
    "grid.score(X_test,y_test)"
   ]
  },
  {
   "cell_type": "code",
   "execution_count": null,
   "metadata": {},
   "outputs": [],
   "source": []
  },
  {
   "cell_type": "code",
   "execution_count": null,
   "metadata": {},
   "outputs": [],
   "source": []
  },
  {
   "cell_type": "code",
   "execution_count": 1973,
   "metadata": {},
   "outputs": [],
   "source": [
    "from sklearn.linear_model import Ridge"
   ]
  },
  {
   "cell_type": "code",
   "execution_count": 1974,
   "metadata": {},
   "outputs": [],
   "source": [
    "model = Ridge()"
   ]
  },
  {
   "cell_type": "code",
   "execution_count": 1975,
   "metadata": {},
   "outputs": [
    {
     "data": {
      "text/plain": [
       "Ridge()"
      ]
     },
     "execution_count": 1975,
     "metadata": {},
     "output_type": "execute_result"
    }
   ],
   "source": [
    "model.fit(X_train,y_train)"
   ]
  },
  {
   "cell_type": "code",
   "execution_count": 1976,
   "metadata": {},
   "outputs": [],
   "source": [
    "train_predict = model.predict(X_train)\n",
    "test_predict = model.predict(X_test)"
   ]
  },
  {
   "cell_type": "code",
   "execution_count": 1977,
   "metadata": {},
   "outputs": [
    {
     "data": {
      "text/plain": [
       "0.8432088156734401"
      ]
     },
     "execution_count": 1977,
     "metadata": {},
     "output_type": "execute_result"
    }
   ],
   "source": [
    "r2_score(y_train,train_predict)"
   ]
  },
  {
   "cell_type": "code",
   "execution_count": 1978,
   "metadata": {},
   "outputs": [
    {
     "data": {
      "text/plain": [
       "0.7628741423311284"
      ]
     },
     "execution_count": 1978,
     "metadata": {},
     "output_type": "execute_result"
    }
   ],
   "source": [
    "r2_score(y_test,test_predict)"
   ]
  },
  {
   "cell_type": "code",
   "execution_count": 1979,
   "metadata": {},
   "outputs": [],
   "source": [
    "from sklearn.model_selection import cross_val_score"
   ]
  },
  {
   "cell_type": "code",
   "execution_count": 1980,
   "metadata": {},
   "outputs": [],
   "source": [
    "scores=cross_val_score(Lasso(random_state = 0),X_train,y_train,cv=4,scoring='r2')"
   ]
  },
  {
   "cell_type": "code",
   "execution_count": 1981,
   "metadata": {},
   "outputs": [
    {
     "data": {
      "text/plain": [
       "0.8000748896252592"
      ]
     },
     "execution_count": 1981,
     "metadata": {},
     "output_type": "execute_result"
    }
   ],
   "source": [
    "np.mean(scores)"
   ]
  },
  {
   "cell_type": "code",
   "execution_count": 1982,
   "metadata": {},
   "outputs": [
    {
     "data": {
      "text/plain": [
       "array([0.75980481, 0.83670295, 0.78142765, 0.82236415])"
      ]
     },
     "execution_count": 1982,
     "metadata": {},
     "output_type": "execute_result"
    }
   ],
   "source": [
    "scores"
   ]
  },
  {
   "cell_type": "code",
   "execution_count": null,
   "metadata": {},
   "outputs": [],
   "source": []
  }
 ],
 "metadata": {
  "kernelspec": {
   "display_name": "Python 3",
   "language": "python",
   "name": "python3"
  },
  "language_info": {
   "codemirror_mode": {
    "name": "ipython",
    "version": 3
   },
   "file_extension": ".py",
   "mimetype": "text/x-python",
   "name": "python",
   "nbconvert_exporter": "python",
   "pygments_lexer": "ipython3",
   "version": "3.7.6"
  }
 },
 "nbformat": 4,
 "nbformat_minor": 4
}
